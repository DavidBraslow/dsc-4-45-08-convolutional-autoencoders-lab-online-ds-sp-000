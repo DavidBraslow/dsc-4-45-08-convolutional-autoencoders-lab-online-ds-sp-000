{
 "cells": [
  {
   "cell_type": "markdown",
   "metadata": {},
   "source": [
    "# Convolutional Autoencoders - Lab\n",
    "\n",
    "## Introduction\n",
    "\n",
    "Earlier we saw the application of simple and deep fully connected auto encoders to image analysis. We ran a few very simple and limited experiments, producing output that was blurry, maintaining object shapes but lacking distinguishing features etc. Convolutional Networks can help overcome these issues as we will see in this lab. We will build a CAE for the same dataset we used earlier in order to produce improved results. \n",
    "\n",
    "*Notes: Refer back to section on Convolutional Networks for details of different layers and their specific functions*\n",
    "\n",
    "## Objectives\n",
    "\n",
    "You will be able to:\n",
    "- Build a convolutional autoencoder in Keras\n",
    "- Compare the output of convolutional vs. simple and deep autoencoders in terms of predictive performance\n"
   ]
  },
  {
   "cell_type": "markdown",
   "metadata": {},
   "source": [
    "## Building a CAE\n",
    "\n",
    "For image inputs, convolutional neural networks (convnets) as encoders and decoders are considered among the best analysis approaches. You would mostly find that autoencoders applied to images are always convolutional autoencoders as perform much better.\n",
    "\n",
    "We will build a CAE in a stack of Conv2D and MaxPooling2D layers \n",
    "- Encoder will use max pooling for spatial down-sampling)\n",
    "- The decoder will consist in a stack of Conv2D and UpSampling2D layers\n",
    "\n",
    "### Implement following Conv-autoencoder network in Keras \n",
    "\n",
    "    ```\n",
    "    Layer (type)                 Output Shape              Param #   \n",
    "    =================================================================\n",
    "    input_3 (InputLayer)         (None, 28, 28, 1)         0         \n",
    "    _________________________________________________________________\n",
    "    conv2d_15 (Conv2D)           (None, 28, 28, 16)        160       \n",
    "    _________________________________________________________________\n",
    "    max_pooling2d_7 (MaxPooling2 (None, 14, 14, 16)        0         \n",
    "    _________________________________________________________________\n",
    "    conv2d_16 (Conv2D)           (None, 14, 14, 8)         1160      \n",
    "    _________________________________________________________________\n",
    "    max_pooling2d_8 (MaxPooling2 (None, 7, 7, 8)           0         \n",
    "    _________________________________________________________________\n",
    "    conv2d_17 (Conv2D)           (None, 7, 7, 8)           584       \n",
    "    _________________________________________________________________\n",
    "    max_pooling2d_9 (MaxPooling2 (None, 4, 4, 8)           0         \n",
    "    _________________________________________________________________\n",
    "    conv2d_18 (Conv2D)           (None, 4, 4, 8)           584       \n",
    "    _________________________________________________________________\n",
    "    up_sampling2d_7 (UpSampling2 (None, 8, 8, 8)           0         \n",
    "    _________________________________________________________________\n",
    "    conv2d_19 (Conv2D)           (None, 8, 8, 8)           584       \n",
    "    _________________________________________________________________\n",
    "    up_sampling2d_8 (UpSampling2 (None, 16, 16, 8)         0         \n",
    "    _________________________________________________________________\n",
    "    conv2d_20 (Conv2D)           (None, 14, 14, 16)        1168      \n",
    "    _________________________________________________________________\n",
    "    up_sampling2d_9 (UpSampling2 (None, 28, 28, 16)        0         \n",
    "    _________________________________________________________________\n",
    "    conv2d_21 (Conv2D)           (None, 28, 28, 1)         145       \n",
    "    =================================================================\n",
    "    Total params: 4,385\n",
    "    Trainable params: 4,385\n",
    "    Non-trainable params: 0\n",
    "    ```"
   ]
  },
  {
   "cell_type": "code",
   "execution_count": 2,
   "metadata": {},
   "outputs": [],
   "source": [
    "# Install tensorflow and keras if you haven't done so already\n",
    "# !pip install tensorflow\n",
    "# !pip install keras\n",
    "\n",
    "# Import necessary libraries\n",
    "import pandas as pd\n",
    "import numpy as np\n",
    "np.random.seed(0)\n",
    "import matplotlib.pyplot as plt\n",
    "%matplotlib inline\n",
    "import keras\n",
    "from keras.preprocessing.sequence import pad_sequences\n",
    "from keras.layers import InputLayer, Dense, LSTM, Embedding\n",
    "from keras.layers import Dropout, Activation, Bidirectional, GlobalMaxPool1D\n",
    "from keras.layers import Conv2D, UpSampling2D, MaxPooling2D\n",
    "from keras.models import Model, Sequential\n",
    "from keras import initializers, regularizers, constraints, optimizers, layers\n",
    "from keras.preprocessing import text, sequence\n",
    "from keras.callbacks import ModelCheckpoint\n",
    "from keras.callbacks import EarlyStopping\n",
    "import tensorflow as tf\n",
    "\n",
    "# Your code here\n",
    "\n"
   ]
  },
  {
   "cell_type": "code",
   "execution_count": 17,
   "metadata": {},
   "outputs": [
    {
     "name": "stdout",
     "output_type": "stream",
     "text": [
      "_________________________________________________________________\n",
      "Layer (type)                 Output Shape              Param #   \n",
      "=================================================================\n",
      "conv2d_45 (Conv2D)           (None, 28, 28, 16)        160       \n",
      "_________________________________________________________________\n",
      "max_pooling2d_33 (MaxPooling (None, 14, 14, 16)        0         \n",
      "_________________________________________________________________\n",
      "conv2d_46 (Conv2D)           (None, 14, 14, 8)         1160      \n",
      "_________________________________________________________________\n",
      "max_pooling2d_34 (MaxPooling (None, 7, 7, 8)           0         \n",
      "_________________________________________________________________\n",
      "conv2d_47 (Conv2D)           (None, 7, 7, 8)           584       \n",
      "_________________________________________________________________\n",
      "max_pooling2d_35 (MaxPooling (None, 4, 4, 8)           0         \n",
      "_________________________________________________________________\n",
      "conv2d_48 (Conv2D)           (None, 4, 4, 8)           584       \n",
      "_________________________________________________________________\n",
      "up_sampling2d_8 (UpSampling2 (None, 8, 8, 8)           0         \n",
      "_________________________________________________________________\n",
      "conv2d_49 (Conv2D)           (None, 8, 8, 8)           584       \n",
      "_________________________________________________________________\n",
      "up_sampling2d_9 (UpSampling2 (None, 16, 16, 8)         0         \n",
      "_________________________________________________________________\n",
      "conv2d_50 (Conv2D)           (None, 14, 14, 16)        1168      \n",
      "_________________________________________________________________\n",
      "up_sampling2d_10 (UpSampling (None, 28, 28, 16)        0         \n",
      "_________________________________________________________________\n",
      "conv2d_51 (Conv2D)           (None, 28, 28, 1)         145       \n",
      "=================================================================\n",
      "Total params: 4,385\n",
      "Trainable params: 4,385\n",
      "Non-trainable params: 0\n",
      "_________________________________________________________________\n"
     ]
    }
   ],
   "source": [
    "# Code here \n",
    "autoencoder = Sequential()\n",
    "autoencoder.add(Conv2D(16, kernel_size = 3, padding = 'same', activation = 'relu', input_shape = (28,28, 1)))\n",
    "autoencoder.add(MaxPooling2D())\n",
    "autoencoder.add(Conv2D(8, kernel_size = 3, padding = 'same', activation = 'relu'))\n",
    "autoencoder.add(MaxPooling2D())\n",
    "autoencoder.add(Conv2D(8, kernel_size = 3, padding = 'same', activation = 'relu'))\n",
    "autoencoder.add(MaxPooling2D(padding = 'same'))\n",
    "autoencoder.add(Conv2D(8, kernel_size = 3, padding = 'same', activation = 'relu'))\n",
    "autoencoder.add(UpSampling2D())\n",
    "autoencoder.add(Conv2D(8, kernel_size = 3, padding = 'same', activation = 'relu'))\n",
    "autoencoder.add(UpSampling2D())\n",
    "autoencoder.add(Conv2D(16, kernel_size = 3, padding = 'valid', activation = 'relu'))\n",
    "autoencoder.add(UpSampling2D())\n",
    "autoencoder.add(Conv2D(1, kernel_size = 3, padding = 'same', activation = 'relu'))\n",
    "autoencoder.summary()"
   ]
  },
  {
   "cell_type": "markdown",
   "metadata": {},
   "source": [
    "## Load the dataset\n",
    "\n",
    "As in previous examples, we will stick with fashion-MNIST or MNIST datasets for convenience. Building a deep neural network with high definition-colored images would require a much higher computational cost with convolutional networks. We will use fashion MNIST digits with shape (samples, 3, 28, 28), and we will just normalize pixel values between 0 and 1. We will reshape the images as channel encoding i.e. (28 x 28 x 1) instead of using a vector in previous lessons. We are now presented an image as discrete 2D object. \n",
    "\n",
    "#### Load fashion-MNIST dataset as train and test sets. Scale the features and Reshape features using \"Channel encoding\".  "
   ]
  },
  {
   "cell_type": "code",
   "execution_count": 20,
   "metadata": {},
   "outputs": [
    {
     "name": "stdout",
     "output_type": "stream",
     "text": [
      "(60000, 28, 28) (60000,) (10000, 28, 28) (10000,)\n",
      "(60000, 28, 28, 1) (10000, 28, 28, 1)\n"
     ]
    }
   ],
   "source": [
    "# code here\n",
    "(x_train, y_train), (x_test, y_test) = tf.keras.datasets.fashion_mnist.load_data()\n",
    "print(x_train.shape, y_train.shape, x_test.shape, y_test.shape)\n",
    "x_train_norm = x_train*1./255\n",
    "x_test_norm = x_test*1./255\n",
    "\n",
    "n_train = x_train.shape[0]\n",
    "n_test = x_test.shape[0]\n",
    "\n",
    "x_train_norm_resh = x_train_norm.reshape((n_train, 28, 28, 1))\n",
    "x_test_norm_resh = x_test_norm.reshape((n_test, 28, 28, 1))\n",
    "\n",
    "print(x_train_norm_resh.shape, x_test_norm_resh.shape)\n"
   ]
  },
  {
   "cell_type": "markdown",
   "metadata": {},
   "source": [
    "## Train the CAE\n",
    "\n",
    "We will now train our network just like we did with simple auto encoder. \n",
    "\n",
    "#### Use batch size = 128, epochs = 20, shuffle = True and using x_test for validation\n",
    "\n",
    "*Note: this is a computationally expensive task due to the deep nature of our network. On a 2017 Macbook pro, the training will take about 20 min i.e. roughly 1 epoch/minute. For good results, you are required to train this , and previous networks to around 40 - 60 epochs.*"
   ]
  },
  {
   "cell_type": "code",
   "execution_count": 21,
   "metadata": {},
   "outputs": [
    {
     "name": "stdout",
     "output_type": "stream",
     "text": [
      "WARNING:tensorflow:From C:\\Users\\david_000\\Anaconda3\\envs\\learn-env\\lib\\site-packages\\tensorflow\\python\\ops\\math_ops.py:3066: to_int32 (from tensorflow.python.ops.math_ops) is deprecated and will be removed in a future version.\n",
      "Instructions for updating:\n",
      "Use tf.cast instead.\n",
      "Train on 60000 samples, validate on 10000 samples\n",
      "Epoch 1/20\n",
      "60000/60000 [==============================] - 82s 1ms/step - loss: 0.4061 - acc: 0.4992 - val_loss: 0.3637 - val_acc: 0.5001\n",
      "Epoch 2/20\n",
      "60000/60000 [==============================] - 80s 1ms/step - loss: 0.3506 - acc: 0.4998 - val_loss: 0.3458 - val_acc: 0.4994\n",
      "Epoch 3/20\n",
      "60000/60000 [==============================] - 78s 1ms/step - loss: 0.3452 - acc: 0.5001 - val_loss: 0.3700 - val_acc: 0.4951\n",
      "Epoch 4/20\n",
      "60000/60000 [==============================] - 78s 1ms/step - loss: 0.3512 - acc: 0.5001 - val_loss: 0.3403 - val_acc: 0.4969\n",
      "Epoch 5/20\n",
      "60000/60000 [==============================] - 78s 1ms/step - loss: 0.3450 - acc: 0.5004 - val_loss: 0.3326 - val_acc: 0.5004\n",
      "Epoch 6/20\n",
      "60000/60000 [==============================] - 78s 1ms/step - loss: 0.3288 - acc: 0.5020 - val_loss: 0.3241 - val_acc: 0.5005\n",
      "Epoch 7/20\n",
      "60000/60000 [==============================] - 78s 1ms/step - loss: 0.3549 - acc: 0.5013 - val_loss: 0.3594 - val_acc: 0.4984\n",
      "Epoch 8/20\n",
      "60000/60000 [==============================] - 79s 1ms/step - loss: 0.3532 - acc: 0.4999 - val_loss: 0.3407 - val_acc: 0.4994\n",
      "Epoch 9/20\n",
      "60000/60000 [==============================] - 82s 1ms/step - loss: 0.3374 - acc: 0.5021 - val_loss: 0.4612 - val_acc: 0.5000\n",
      "Epoch 10/20\n",
      "60000/60000 [==============================] - 82s 1ms/step - loss: 0.3275 - acc: 0.5029 - val_loss: 0.3218 - val_acc: 0.5015\n",
      "Epoch 11/20\n",
      "60000/60000 [==============================] - 80s 1ms/step - loss: 0.3267 - acc: 0.5022 - val_loss: 0.3291 - val_acc: 0.4991\n",
      "Epoch 12/20\n",
      "60000/60000 [==============================] - 79s 1ms/step - loss: 0.3277 - acc: 0.5021 - val_loss: 0.3198 - val_acc: 0.5016\n",
      "Epoch 13/20\n",
      "60000/60000 [==============================] - 77s 1ms/step - loss: 0.3153 - acc: 0.5041 - val_loss: 0.3146 - val_acc: 0.5021\n",
      "Epoch 14/20\n",
      "60000/60000 [==============================] - 80s 1ms/step - loss: 0.3125 - acc: 0.5042 - val_loss: 0.3122 - val_acc: 0.5024\n",
      "Epoch 15/20\n",
      "60000/60000 [==============================] - 76s 1ms/step - loss: 0.3155 - acc: 0.5039 - val_loss: 0.3135 - val_acc: 0.5016\n",
      "Epoch 16/20\n",
      "60000/60000 [==============================] - 77s 1ms/step - loss: 0.3100 - acc: 0.5042 - val_loss: 0.3110 - val_acc: 0.5025\n",
      "Epoch 17/20\n",
      "60000/60000 [==============================] - 77s 1ms/step - loss: 0.3109 - acc: 0.5044 - val_loss: 0.3107 - val_acc: 0.5029\n",
      "Epoch 18/20\n",
      "60000/60000 [==============================] - 81s 1ms/step - loss: 0.3073 - acc: 0.5047 - val_loss: 0.3089 - val_acc: 0.5021\n",
      "Epoch 19/20\n",
      "60000/60000 [==============================] - 78s 1ms/step - loss: 0.3151 - acc: 0.5039 - val_loss: 0.3153 - val_acc: 0.5019\n",
      "Epoch 20/20\n",
      "60000/60000 [==============================] - 81s 1ms/step - loss: 0.3083 - acc: 0.5045 - val_loss: 0.3065 - val_acc: 0.5027\n"
     ]
    },
    {
     "data": {
      "text/plain": [
       "<keras.callbacks.History at 0x2039ca4d7f0>"
      ]
     },
     "execution_count": 21,
     "metadata": {},
     "output_type": "execute_result"
    }
   ],
   "source": [
    "# Code here\n",
    "autoencoder.compile(loss='binary_crossentropy', optimizer='adam', metrics=['accuracy'])\n",
    "autoencoder.fit(x_train_norm_resh, x_train_norm_resh, epochs=20, batch_size=128, shuffle = True, validation_data=(x_test_norm_resh, x_test_norm_resh))\n",
    "# Your code here\n",
    "\n"
   ]
  },
  {
   "cell_type": "markdown",
   "metadata": {},
   "source": [
    "## Plot the original Images and their reconstructions\n",
    "\n",
    "Select and view first 10 images from the x_test and reconstructed images to check the quality of reconstruction. "
   ]
  },
  {
   "cell_type": "code",
   "execution_count": 23,
   "metadata": {},
   "outputs": [
    {
     "name": "stdout",
     "output_type": "stream",
     "text": [
      "(2, 10)\n"
     ]
    },
    {
     "data": {
      "image/png": "[encoded data removed]",
      "text/plain": [
       "<Figure size 1008x360 with 20 Axes>"
      ]
     },
     "metadata": {
      "needs_background": "light"
     },
     "output_type": "display_data"
    }
   ],
   "source": [
    "# Code here\n",
    "\n",
    "x_test_rec = autoencoder.predict(x_test_norm_resh)\n",
    "\n",
    "fig, axes = plt.subplots(2, 10, figsize=(14,5))\n",
    "print(axes.shape)\n",
    "for i in range(0, 10):\n",
    "    axes[0,i].imshow(x_test_norm_resh[i].reshape((28,28)) )\n",
    "    axes[1,i].imshow(x_test_rec[i].reshape((28,28)) )\n",
    "\n",
    "# Your code here\n",
    "\n"
   ]
  },
  {
   "cell_type": "markdown",
   "metadata": {},
   "source": [
    "We see very poor results with 20 epochs of training here. Clearly the images and reconstruction are not comparable at this stage. Increase the epochs to around 50 to see improved results. \n"
   ]
  },
  {
   "cell_type": "markdown",
   "metadata": {},
   "source": [
    "## Level up - Optional\n",
    "\n",
    "### Application to image denoising\n",
    "\n",
    "We can use our convolutional autoencoder to work on an image denoising problem, similar to one seen earlier. Train the convolutional autoencoder to map noisy digits images to clean digits images. compare the quality of cleaned images (decoded) to those by simple /deep fully connected autoencoders."
   ]
  },
  {
   "cell_type": "markdown",
   "metadata": {},
   "source": [
    "## Additional Resources\n",
    "\n",
    "- [Basics of Image Processing](https://www.codementor.io/isaib.cicourel/image-manipulation-in-python-du1089j1u)\n",
    "- [Implementing PCA, Feedforward and Convolutional Autoencoders and using it for Image Reconstruction, Retrieval & Compression](https://blog.manash.me/implementing-pca-feedforward-and-convolutional-autoencoders-and-using-it-for-image-reconstruction-8ee44198ea55)"
   ]
  },
  {
   "cell_type": "markdown",
   "metadata": {},
   "source": [
    "## Summary \n",
    "\n",
    "In this lesson , we looked at a deep convolutional autoencoder to achieve data compression and noise reduction , compared to how these tasks were performed in simple autoencoders. We saw image processing incurred a huge processing cost to our experiment, but with enough epochs and training examples, the output produced by CAEs looks much better than those by simple AEs. "
   ]
  }
 ],
 "metadata": {
  "kernelspec": {
   "display_name": "Python 3",
   "language": "python",
   "name": "python3"
  },
  "language_info": {
   "codemirror_mode": {
    "name": "ipython",
    "version": 3
   },
   "file_extension": ".py",
   "mimetype": "text/x-python",
   "name": "python",
   "nbconvert_exporter": "python",
   "pygments_lexer": "ipython3",
   "version": "3.7.3"
  }
 },
 "nbformat": 4,
 "nbformat_minor": 2
}
